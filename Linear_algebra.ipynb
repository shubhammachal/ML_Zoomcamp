{
 "cells": [
  {
   "cell_type": "code",
   "execution_count": 1,
   "id": "b745f281",
   "metadata": {},
   "outputs": [],
   "source": [
    "import numpy as np"
   ]
  },
  {
   "cell_type": "markdown",
   "id": "070745fc",
   "metadata": {},
   "source": [
    "# Vector operations"
   ]
  },
  {
   "cell_type": "code",
   "execution_count": 2,
   "id": "29490ba5",
   "metadata": {},
   "outputs": [],
   "source": [
    "u = np.array([2,4,5,6])"
   ]
  },
  {
   "cell_type": "code",
   "execution_count": 3,
   "id": "343d4a87",
   "metadata": {},
   "outputs": [],
   "source": [
    "v = np.array([1,2,3,4])"
   ]
  },
  {
   "cell_type": "code",
   "execution_count": 4,
   "id": "900b1ff0",
   "metadata": {},
   "outputs": [
    {
     "data": {
      "text/plain": [
       "array([ 2,  8, 15, 24])"
      ]
     },
     "execution_count": 4,
     "metadata": {},
     "output_type": "execute_result"
    }
   ],
   "source": [
    "u*v"
   ]
  },
  {
   "cell_type": "code",
   "execution_count": 5,
   "id": "0426d7de",
   "metadata": {},
   "outputs": [
    {
     "data": {
      "text/plain": [
       "array([ 4, 16, 30, 48])"
      ]
     },
     "execution_count": 5,
     "metadata": {},
     "output_type": "execute_result"
    }
   ],
   "source": [
    "2*u*v"
   ]
  },
  {
   "cell_type": "markdown",
   "id": "ee8ab284",
   "metadata": {},
   "source": [
    "# Vector Vector Multiplication"
   ]
  },
  {
   "cell_type": "code",
   "execution_count": 6,
   "id": "3e11829f",
   "metadata": {},
   "outputs": [
    {
     "name": "stdout",
     "output_type": "stream",
     "text": [
      "4\n",
      "4\n"
     ]
    }
   ],
   "source": [
    "print(u.shape[0])\n",
    "print(v.shape[0])\n"
   ]
  },
  {
   "cell_type": "code",
   "execution_count": 7,
   "id": "b4b0d76d",
   "metadata": {},
   "outputs": [],
   "source": [
    "z = np.array([1,2])"
   ]
  },
  {
   "cell_type": "code",
   "execution_count": 12,
   "id": "dc42f77d",
   "metadata": {},
   "outputs": [],
   "source": [
    "def vec_vec_mult(u,v):\n",
    "    if v.shape[0]!= u.shape[0]:\n",
    "        raise ValueError(\"Vectors must have the same shape\")\n",
    "    n = len(u)\n",
    "    result = 0.0\n",
    "    for i in range(n):\n",
    "        result += u[i] * v[i]\n",
    "    return result\n"
   ]
  },
  {
   "cell_type": "code",
   "execution_count": 13,
   "id": "83a297f9",
   "metadata": {},
   "outputs": [
    {
     "name": "stdout",
     "output_type": "stream",
     "text": [
      "49.0\n"
     ]
    }
   ],
   "source": [
    "print(vec_vec_mult(u,v))"
   ]
  },
  {
   "cell_type": "code",
   "execution_count": 10,
   "id": "c4478b2b",
   "metadata": {
    "scrolled": true
   },
   "outputs": [
    {
     "data": {
      "text/plain": [
       "49"
      ]
     },
     "execution_count": 10,
     "metadata": {},
     "output_type": "execute_result"
    }
   ],
   "source": [
    "np.dot(u,v)"
   ]
  },
  {
   "cell_type": "code",
   "execution_count": 14,
   "id": "edd16231",
   "metadata": {},
   "outputs": [
    {
     "data": {
      "text/plain": [
       "49"
      ]
     },
     "execution_count": 14,
     "metadata": {},
     "output_type": "execute_result"
    }
   ],
   "source": [
    "u.dot(v)"
   ]
  },
  {
   "cell_type": "markdown",
   "id": "beaf5022",
   "metadata": {},
   "source": [
    "# Matrix Vector Multiplication\n"
   ]
  },
  {
   "cell_type": "code",
   "execution_count": 20,
   "id": "7210dbfe",
   "metadata": {},
   "outputs": [],
   "source": [
    "x = np.array([[2,4,5,6],\n",
    "            [1,2,1,2],\n",
    "            [3,1,2,1]])"
   ]
  },
  {
   "cell_type": "code",
   "execution_count": 26,
   "id": "7ff6ab7d",
   "metadata": {},
   "outputs": [
    {
     "data": {
      "text/plain": [
       "4"
      ]
     },
     "execution_count": 26,
     "metadata": {},
     "output_type": "execute_result"
    }
   ],
   "source": [
    "x.shape[1]"
   ]
  },
  {
   "cell_type": "code",
   "execution_count": 24,
   "id": "c903c04a",
   "metadata": {
    "scrolled": true
   },
   "outputs": [
    {
     "data": {
      "text/plain": [
       "4"
      ]
     },
     "execution_count": 24,
     "metadata": {},
     "output_type": "execute_result"
    }
   ],
   "source": [
    "y.shape[0]"
   ]
  },
  {
   "cell_type": "code",
   "execution_count": null,
   "id": "3dbfdd47",
   "metadata": {},
   "outputs": [],
   "source": []
  },
  {
   "cell_type": "code",
   "execution_count": 21,
   "id": "aed3ee6b",
   "metadata": {},
   "outputs": [],
   "source": [
    "y = np.array([1,2,3,4])"
   ]
  },
  {
   "cell_type": "code",
   "execution_count": 36,
   "id": "9026b5e9",
   "metadata": {},
   "outputs": [
    {
     "data": {
      "text/plain": [
       "3"
      ]
     },
     "execution_count": 36,
     "metadata": {},
     "output_type": "execute_result"
    }
   ],
   "source": [
    "x.shape[0]"
   ]
  },
  {
   "cell_type": "code",
   "execution_count": 44,
   "id": "50502859",
   "metadata": {},
   "outputs": [],
   "source": [
    "def mat_vec_mult(x,y):\n",
    "    if x.shape[1] != y.shape[0]:\n",
    "        raise ValueError(\"Matrix columns must match vector length\")\n",
    "    num_rows = x.shape[0]\n",
    "    num_col = y.shape[0] #number of rows in matrix is equal to number of columns in vector\n",
    "    result = np.zeros(num_rows)\n",
    "    for i in range(num_rows):\n",
    "        for j in range(num_col):\n",
    "            result[i] += x[i][j] * y[j]\n",
    "    return result\n",
    "    "
   ]
  },
  {
   "cell_type": "code",
   "execution_count": 45,
   "id": "8f0bba45",
   "metadata": {},
   "outputs": [
    {
     "name": "stdout",
     "output_type": "stream",
     "text": [
      "[49. 16. 15.]\n"
     ]
    }
   ],
   "source": [
    "print(mat_vec_mult(x,y))"
   ]
  },
  {
   "cell_type": "code",
   "execution_count": 47,
   "id": "9b93eced",
   "metadata": {},
   "outputs": [
    {
     "data": {
      "text/plain": [
       "array([49, 16, 15])"
      ]
     },
     "execution_count": 47,
     "metadata": {},
     "output_type": "execute_result"
    }
   ],
   "source": [
    "np.dot(x,y)"
   ]
  },
  {
   "cell_type": "markdown",
   "id": "9c40cc7e",
   "metadata": {},
   "source": [
    "# Matrix Multiplication"
   ]
  },
  {
   "cell_type": "code",
   "execution_count": 75,
   "id": "3968f215",
   "metadata": {},
   "outputs": [],
   "source": [
    "def mat_mult(A,B):\n",
    "    if A.shape[1] != B.shape[0]:\n",
    "        raise ValueError(\"Matrix A columns must match matrix B columns length\")\n",
    "    rows_A, cols_A = len(A), len(A[0])\n",
    "    rows_B, cols_B = len(B), len(B[0])\n",
    "    \n",
    "    result = np.zeros([rows_A, cols_B])\n",
    "    for i in range(rows_A):\n",
    "        for j in range(cols_B):\n",
    "            for k in range(cols_A):\n",
    "                result[i][j] += A[i][k] * B[k][j]\n",
    "    return result\n",
    "    \n",
    "    \n",
    "    "
   ]
  },
  {
   "cell_type": "code",
   "execution_count": 74,
   "id": "b95f8f8e",
   "metadata": {},
   "outputs": [],
   "source": [
    "A = np.array([[1,2,3],\n",
    "           [4,5,6],\n",
    "           [7,8,9]])\n",
    "B = np.array([[2,3,4],\n",
    "            [1,5,6],\n",
    "             [4,5,6]])"
   ]
  },
  {
   "cell_type": "code",
   "execution_count": 76,
   "id": "faeff2a8",
   "metadata": {},
   "outputs": [
    {
     "data": {
      "text/plain": [
       "3"
      ]
     },
     "execution_count": 76,
     "metadata": {},
     "output_type": "execute_result"
    }
   ],
   "source": [
    "B.shape[0]"
   ]
  },
  {
   "cell_type": "code",
   "execution_count": 77,
   "id": "f21493a2",
   "metadata": {},
   "outputs": [
    {
     "name": "stdout",
     "output_type": "stream",
     "text": [
      "[[ 16.  28.  34.]\n",
      " [ 37.  67.  82.]\n",
      " [ 58. 106. 130.]]\n"
     ]
    }
   ],
   "source": [
    "print(mat_mult(A,B))"
   ]
  },
  {
   "cell_type": "code",
   "execution_count": 78,
   "id": "f4121e8c",
   "metadata": {},
   "outputs": [
    {
     "data": {
      "text/plain": [
       "array([[ 16,  28,  34],\n",
       "       [ 37,  67,  82],\n",
       "       [ 58, 106, 130]])"
      ]
     },
     "execution_count": 78,
     "metadata": {},
     "output_type": "execute_result"
    }
   ],
   "source": [
    "np.dot(A,B)"
   ]
  },
  {
   "cell_type": "markdown",
   "id": "c36aaa45",
   "metadata": {},
   "source": [
    "# Identity Matrix"
   ]
  },
  {
   "cell_type": "code",
   "execution_count": 80,
   "id": "314e2378",
   "metadata": {},
   "outputs": [
    {
     "data": {
      "text/plain": [
       "array([[1., 0., 0.],\n",
       "       [0., 1., 0.],\n",
       "       [0., 0., 1.]])"
      ]
     },
     "execution_count": 80,
     "metadata": {},
     "output_type": "execute_result"
    }
   ],
   "source": [
    "np.eye(3)"
   ]
  }
 ],
 "metadata": {
  "kernelspec": {
   "display_name": "Python 3 (ipykernel)",
   "language": "python",
   "name": "python3"
  },
  "language_info": {
   "codemirror_mode": {
    "name": "ipython",
    "version": 3
   },
   "file_extension": ".py",
   "mimetype": "text/x-python",
   "name": "python",
   "nbconvert_exporter": "python",
   "pygments_lexer": "ipython3",
   "version": "3.11.4"
  }
 },
 "nbformat": 4,
 "nbformat_minor": 5
}
